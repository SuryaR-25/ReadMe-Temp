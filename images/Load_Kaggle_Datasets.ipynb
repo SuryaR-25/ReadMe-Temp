{
  "nbformat": 4,
  "nbformat_minor": 0,
  "metadata": {
    "colab": {
      "provenance": []
    },
    "kernelspec": {
      "name": "python3",
      "display_name": "Python 3"
    },
    "language_info": {
      "name": "python"
    }
  },
  "cells": [
    {
      "cell_type": "markdown",
      "source": [
        "## **IBM-Project-54082-1661588854**\n",
        "|      **Project Name**     | DHL Logistics Facilities   |\n",
        "|:-------------------------:|:--------------------------:|\n",
        "|         **Domain**        |  Data Analytics   |\n",
        "|        **Team ID**        |  PNT2022TMID24413 |"
      ],
      "metadata": {
        "id": "48Zsj-SIqk04"
      }
    },
    {
      "cell_type": "markdown",
      "source": [
        "### **1. Install the Kaggle library**"
      ],
      "metadata": {
        "id": "B5FFMifll2yG"
      }
    },
    {
      "cell_type": "code",
      "execution_count": 1,
      "metadata": {
        "colab": {
          "base_uri": "https://localhost:8080/"
        },
        "id": "-X9Ppoeqjwba",
        "outputId": "b2ea17bd-f84e-42e5-c466-c036beb8f935"
      },
      "outputs": [
        {
          "output_type": "stream",
          "name": "stdout",
          "text": [
            "Looking in indexes: https://pypi.org/simple, https://us-python.pkg.dev/colab-wheels/public/simple/\n",
            "Requirement already satisfied: kaggle in /usr/local/lib/python3.7/dist-packages (1.5.12)\n",
            "Requirement already satisfied: tqdm in /usr/local/lib/python3.7/dist-packages (from kaggle) (4.64.1)\n",
            "Requirement already satisfied: certifi in /usr/local/lib/python3.7/dist-packages (from kaggle) (2022.9.24)\n",
            "Requirement already satisfied: six>=1.10 in /usr/local/lib/python3.7/dist-packages (from kaggle) (1.15.0)\n",
            "Requirement already satisfied: python-dateutil in /usr/local/lib/python3.7/dist-packages (from kaggle) (2.8.2)\n",
            "Requirement already satisfied: python-slugify in /usr/local/lib/python3.7/dist-packages (from kaggle) (6.1.2)\n",
            "Requirement already satisfied: urllib3 in /usr/local/lib/python3.7/dist-packages (from kaggle) (1.24.3)\n",
            "Requirement already satisfied: requests in /usr/local/lib/python3.7/dist-packages (from kaggle) (2.23.0)\n",
            "Requirement already satisfied: text-unidecode>=1.3 in /usr/local/lib/python3.7/dist-packages (from python-slugify->kaggle) (1.3)\n",
            "Requirement already satisfied: idna<3,>=2.5 in /usr/local/lib/python3.7/dist-packages (from requests->kaggle) (2.10)\n",
            "Requirement already satisfied: chardet<4,>=3.0.2 in /usr/local/lib/python3.7/dist-packages (from requests->kaggle) (3.0.4)\n"
          ]
        }
      ],
      "source": [
        "! pip install kaggle"
      ]
    },
    {
      "cell_type": "markdown",
      "source": [
        "### **2. Make a directory named “.kaggle”**"
      ],
      "metadata": {
        "id": "YXOfLbxImDWR"
      }
    },
    {
      "cell_type": "code",
      "source": [
        "! mkdir ~/.kaggle"
      ],
      "metadata": {
        "id": "vZI1iI-Xkhmq"
      },
      "execution_count": 2,
      "outputs": []
    },
    {
      "cell_type": "markdown",
      "source": [
        "### **3. Copy the “kaggle.json” into this new directory**"
      ],
      "metadata": {
        "id": "Xv2_Am0fmDhf"
      }
    },
    {
      "cell_type": "code",
      "source": [
        "! cp kaggle.json ~/.kaggle/"
      ],
      "metadata": {
        "id": "5wDjuWRFklmV"
      },
      "execution_count": 3,
      "outputs": []
    },
    {
      "cell_type": "markdown",
      "source": [
        "### **4. Allocate the required permission for this file.**"
      ],
      "metadata": {
        "id": "B32SH5jAmDsf"
      }
    },
    {
      "cell_type": "code",
      "source": [
        "! chmod 600 ~/.kaggle/kaggle.json"
      ],
      "metadata": {
        "id": "tfBQIgaUklyi"
      },
      "execution_count": 4,
      "outputs": []
    },
    {
      "cell_type": "markdown",
      "source": [
        "### **5. Download datasets**"
      ],
      "metadata": {
        "id": "E0Odc2sLmmMK"
      }
    },
    {
      "cell_type": "code",
      "source": [
        "! kaggle datasets download -d suryar25/dhl-logistics-facilities"
      ],
      "metadata": {
        "colab": {
          "base_uri": "https://localhost:8080/"
        },
        "id": "-8NBG-0FlBBL",
        "outputId": "8754e015-4f78-4784-fbdb-1c5e5c87a730"
      },
      "execution_count": 5,
      "outputs": [
        {
          "output_type": "stream",
          "name": "stdout",
          "text": [
            "Downloading dhl-logistics-facilities.zip to /content\n",
            "\r  0% 0.00/1.11M [00:00<?, ?B/s]\n",
            "\r100% 1.11M/1.11M [00:00<00:00, 104MB/s]\n"
          ]
        }
      ]
    },
    {
      "cell_type": "markdown",
      "source": [
        "### **6. Unzip to extract the data:**"
      ],
      "metadata": {
        "id": "9QFnfqemmwT2"
      }
    },
    {
      "cell_type": "code",
      "source": [
        "! unzip dhl-logistics-facilities.zip"
      ],
      "metadata": {
        "colab": {
          "base_uri": "https://localhost:8080/"
        },
        "id": "IWll86BFllYZ",
        "outputId": "e252040c-a7ad-43a2-ce25-830e3d3c42d4"
      },
      "execution_count": 6,
      "outputs": [
        {
          "output_type": "stream",
          "name": "stdout",
          "text": [
            "Archive:  dhl-logistics-facilities.zip\n",
            "  inflating: DHL_Facilities.csv      \n"
          ]
        }
      ]
    },
    {
      "cell_type": "markdown",
      "source": [
        "###**TEAM MEMBERS:**\n",
        "|   **Title**   |      **Name**   |\n",
        "|:-----------:|:-----------------:|\n",
        "| Team Leader   |    **SURYA R**  |\n",
        "| Team Member 1 |    **SURYA K**  |\n",
        "| Team Member 2 |   **SUBASH M**  |\n",
        "| Team Member 3 |   **KESHAV J**  |\n",
        "\n"
      ],
      "metadata": {
        "id": "c3p5lgyvqRan"
      }
    },
    {
      "cell_type": "markdown",
      "source": [
        "Click here for ---> [**Github Repo Link**](https://github.com/IBM-EPBL/IBM-Project-54082-1661588854)"
      ],
      "metadata": {
        "id": "6f-uT-MhoMnX"
      }
    }
  ]
}